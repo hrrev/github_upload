{
 "cells": [
  {
   "cell_type": "code",
   "execution_count": 8,
   "metadata": {},
   "outputs": [],
   "source": [
    "out_path = \"/home/himanshu/assignment_jupyter_notebooks/outputs/rdd/full\""
   ]
  },
  {
   "cell_type": "code",
   "execution_count": null,
   "metadata": {},
   "outputs": [],
   "source": [
    "This file existed in the machine I used to run the code. I made an SSH connection to this machine "
   ]
  },
  {
   "cell_type": "code",
   "execution_count": 10,
   "metadata": {
    "scrolled": true
   },
   "outputs": [],
   "source": [
    "raw_data=sc.textFile(\"/home/himanshu/assignment_jupyter_notebooks/small_chunk\",minPartitions=88*4)"
   ]
  },
  {
   "cell_type": "markdown",
   "metadata": {},
   "source": [
    "## Custom split\n",
    "This function generates (word,docid,pos) tuples from the raw data. Each line in the raw data represents a document.\n",
    "The first number in the line is the docid followed by the words in the document,"
   ]
  },
  {
   "cell_type": "code",
   "execution_count": 53,
   "metadata": {},
   "outputs": [],
   "source": [
    "def custom_split(string):\n",
    "    strspl = string.split()\n",
    "    #docid=int(next(docid_counter))\n",
    "    docid=strspl[0]\n",
    "    positions = len(strspl)    \n",
    "    pairs = [( strspl[pos],docid,pos-1 ) for pos in range(1,positions)]\n",
    "    return pairs"
   ]
  },
  {
   "cell_type": "markdown",
   "metadata": {},
   "source": [
    "## Custom_sorter\n",
    "Sorts the list of position ids"
   ]
  },
  {
   "cell_type": "code",
   "execution_count": 54,
   "metadata": {},
   "outputs": [],
   "source": [
    "def custom_sorter(element):\n",
    "    #having key as (word,docid)\n",
    "    element[1].sort()\n",
    "    return(element[0],element[1])\n",
    "    \n",
    "    "
   ]
  },
  {
   "cell_type": "markdown",
   "metadata": {},
   "source": [
    "##Customer_sorter2\n",
    "\n",
    "element received in form (< word >, <[list of (docid,[list of position ids])]>)\n",
    "In each element we sort the value field according to docids"
   ]
  },
  {
   "cell_type": "code",
   "execution_count": 55,
   "metadata": {},
   "outputs": [],
   "source": [
    "def custom_sorter2(inv_index_element):\n",
    "    word = inv_index_element[0]\n",
    "    doc_pos_list = inv_index_element[1]\n",
    "    doc_pos_list.sort(key=lambda x: x[0])\n",
    "    return(word,doc_pos_list)"
   ]
  },
  {
   "cell_type": "code",
   "execution_count": 56,
   "metadata": {},
   "outputs": [],
   "source": [
    "docs_list = raw_data.flatMap(lambda line: custom_split(line))"
   ]
  },
  {
   "cell_type": "markdown",
   "metadata": {},
   "source": [
    "Using (word,docid) as key and (posid) as value. Hence now rdd elements are {(word,docid),(posid))"
   ]
  },
  {
   "cell_type": "code",
   "execution_count": 57,
   "metadata": {},
   "outputs": [],
   "source": [
    "grouped_docs = docs_list.map(lambda x: ( (x[0],x[1]), x[2] ))"
   ]
  },
  {
   "cell_type": "markdown",
   "metadata": {},
   "source": [
    "Using group by key so that we now have {<word,docid>, <[List of position ids]>}"
   ]
  },
  {
   "cell_type": "code",
   "execution_count": null,
   "metadata": {},
   "outputs": [],
   "source": [
    "word_doc_pairs = grouped_docs.groupByKey().mapValues(list)"
   ]
  },
  {
   "cell_type": "markdown",
   "metadata": {},
   "source": [
    "Sorting the list of position ids so that binary search is easily possible later"
   ]
  },
  {
   "cell_type": "code",
   "execution_count": 9,
   "metadata": {},
   "outputs": [],
   "source": [
    "word_doc_pos_sorted = word_doc_pairs.map(lambda x: custom_sorter(x))"
   ]
  },
  {
   "cell_type": "markdown",
   "metadata": {},
   "source": [
    "Converting sructure of rdd element\n",
    "\n",
    "{(word), ( docid ,  [list_of_posid] ) }"
   ]
  },
  {
   "cell_type": "code",
   "execution_count": 10,
   "metadata": {},
   "outputs": [],
   "source": [
    "word_table = word_doc_pos_sorted.map(lambda x: (  x[0][0], (x[0][1],x[1])))"
   ]
  },
  {
   "cell_type": "markdown",
   "metadata": {},
   "source": [
    "Using group by key so that now we have { (word), [list of (docid,[posisd] )]}"
   ]
  },
  {
   "cell_type": "code",
   "execution_count": 11,
   "metadata": {},
   "outputs": [],
   "source": [
    "inverted_index = word_table.groupByKey().mapValues(list)"
   ]
  },
  {
   "cell_type": "markdown",
   "metadata": {},
   "source": [
    "Now sorting the document ids\n",
    "Finally we have dictionary of format:\n",
    "\n",
    "\n",
    "    key-> word\n",
    "    value-> list of document_ids followed by list of position_ids in each document"
   ]
  },
  {
   "cell_type": "code",
   "execution_count": 12,
   "metadata": {},
   "outputs": [],
   "source": [
    "inverted_index_sorted = inverted_index.map(lambda x: custom_sorter2(x))"
   ]
  },
  {
   "cell_type": "markdown",
   "metadata": {},
   "source": [
    "Saving this unfinished inverted index for further processing"
   ]
  },
  {
   "cell_type": "code",
   "execution_count": null,
   "metadata": {},
   "outputs": [],
   "source": [
    "inverted_index_sorted.saveAsTextFile(out_path)"
   ]
  }
 ],
 "metadata": {
  "kernelspec": {
   "display_name": "Python 3",
   "language": "python",
   "name": "python3"
  },
  "language_info": {
   "codemirror_mode": {
    "name": "ipython",
    "version": 3
   },
   "file_extension": ".py",
   "mimetype": "text/x-python",
   "name": "python",
   "nbconvert_exporter": "python",
   "pygments_lexer": "ipython3",
   "version": "3.7.1"
  }
 },
 "nbformat": 4,
 "nbformat_minor": 2
}
