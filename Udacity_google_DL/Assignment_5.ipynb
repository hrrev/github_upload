{
  "nbformat": 4,
  "nbformat_minor": 0,
  "metadata": {
    "colab": {
      "name": "Assignment_5.ipynb",
      "version": "0.3.2",
      "provenance": [],
      "collapsed_sections": []
    },
    "kernelspec": {
      "name": "python3",
      "display_name": "Python 3"
    },
    "accelerator": "GPU"
  },
  "cells": [
    {
      "metadata": {
        "id": "ycNYAseDoXFJ",
        "colab_type": "code",
        "colab": {}
      },
      "cell_type": "code",
      "source": [
        "import tensorflow as tf"
      ],
      "execution_count": 0,
      "outputs": []
    },
    {
      "metadata": {
        "id": "v20ccvg1ozCn",
        "colab_type": "code",
        "outputId": "2d30cda6-37ae-4bd0-c477-f8086d21ae0e",
        "colab": {
          "base_uri": "https://localhost:8080/",
          "height": 34
        }
      },
      "cell_type": "code",
      "source": [
        "device_name = tf.test.gpu_device_name()\n",
        "if device_name != '/device:GPU:0':\n",
        "  print('GPU device not found')\n",
        "else:\n",
        "  print('Found GPU at: {}'.format(device_name))"
      ],
      "execution_count": 0,
      "outputs": [
        {
          "output_type": "stream",
          "text": [
            "Found GPU at: /device:GPU:0\n"
          ],
          "name": "stdout"
        }
      ]
    },
    {
      "metadata": {
        "id": "N51YaBrzo2Tt",
        "colab_type": "code",
        "colab": {}
      },
      "cell_type": "code",
      "source": [
        "import numpy as np\n",
        "import math\n",
        "import os\n",
        "import random\n",
        "import zipfile\n",
        "from matplotlib import pylab\n",
        "import collections\n",
        "from __future__ import print_function\n",
        "from six.moves import range\n",
        "from six.moves.urllib.request import urlretrieve\n",
        "from sklearn.manifold import TSNE"
      ],
      "execution_count": 0,
      "outputs": []
    },
    {
      "metadata": {
        "id": "OS_Ddt7jpbKY",
        "colab_type": "code",
        "colab": {}
      },
      "cell_type": "code",
      "source": [
        "url = 'http://mattmahoney.net/dc/'"
      ],
      "execution_count": 0,
      "outputs": []
    },
    {
      "metadata": {
        "id": "zX5ByiCWpvka",
        "colab_type": "code",
        "colab": {}
      },
      "cell_type": "code",
      "source": [
        "def maybe_download(filename, expected_size):\n",
        "  \"\"\"Download a file if is not present at the location and check its size\"\"\"\n",
        "  \n",
        "  #if the file does not exist at location download it\n",
        "  if not os.path.exists(filename):\n",
        "    filename,_ = urlretrieve(url+filename, filename)\n",
        "   \n",
        "  #getting information form os\n",
        "  statinfo = os.stat(filename)\n",
        "  \n",
        "  #checking filesize\n",
        "  if statinfo.st_size == expected_size:\n",
        "    print('Found and verified size  of {}'.format(filename))\n",
        "    \n",
        "  else:\n",
        "    print(statinfo.st_size)\n",
        "    raise Exception('Failed to verify ' + filename + ' Try downloading from browser')\n",
        "    \n",
        "  return filename\n",
        "      \n",
        "  \n",
        "  \n",
        "   "
      ],
      "execution_count": 0,
      "outputs": []
    },
    {
      "metadata": {
        "id": "HpUbGhmlrFLK",
        "colab_type": "code",
        "outputId": "5ac13c23-90d0-44e9-c1ac-105527cca11e",
        "colab": {
          "base_uri": "https://localhost:8080/",
          "height": 34
        }
      },
      "cell_type": "code",
      "source": [
        "filename = maybe_download('text8.zip', 31344016)"
      ],
      "execution_count": 0,
      "outputs": [
        {
          "output_type": "stream",
          "text": [
            "Found and verified size  of text8.zip\n"
          ],
          "name": "stdout"
        }
      ]
    },
    {
      "metadata": {
        "id": "Oi116ovdumPl",
        "colab_type": "code",
        "outputId": "67b0ca1e-6a71-45bf-e0da-d2fc706831df",
        "colab": {
          "base_uri": "https://localhost:8080/",
          "height": 34
        }
      },
      "cell_type": "code",
      "source": [
        "#looking at the names of the files in the zipfile\n",
        "with zipfile.ZipFile(filename) as f:\n",
        "  print(f.namelist())\n",
        "  words = tf.compat.as_str(f.read(f.namelist()[0]))"
      ],
      "execution_count": 0,
      "outputs": [
        {
          "output_type": "stream",
          "text": [
            "['text8']\n"
          ],
          "name": "stdout"
        }
      ]
    },
    {
      "metadata": {
        "id": "vKjqzNuhvMQt",
        "colab_type": "code",
        "outputId": "c2612968-fbdb-456b-ea30-640a537a8ee3",
        "colab": {
          "base_uri": "https://localhost:8080/",
          "height": 34
        }
      },
      "cell_type": "code",
      "source": [
        "# printing the first hundred words to see what we have got\n",
        "print(words[1:100])"
      ],
      "execution_count": 0,
      "outputs": [
        {
          "output_type": "stream",
          "text": [
            "anarchism originated as a term of abuse first used against early working class radicals including t\n"
          ],
          "name": "stdout"
        }
      ]
    },
    {
      "metadata": {
        "id": "WWyNubRNvmdE",
        "colab_type": "code",
        "outputId": "e1ccddf3-dae0-4060-c144-16911b15fdd2",
        "colab": {
          "base_uri": "https://localhost:8080/",
          "height": 54
        }
      },
      "cell_type": "code",
      "source": [
        "# lets seperate words at whitespaces\n",
        "words = words.split()\n",
        "print(words[0:100])"
      ],
      "execution_count": 0,
      "outputs": [
        {
          "output_type": "stream",
          "text": [
            "['anarchism', 'originated', 'as', 'a', 'term', 'of', 'abuse', 'first', 'used', 'against', 'early', 'working', 'class', 'radicals', 'including', 'the', 'diggers', 'of', 'the', 'english', 'revolution', 'and', 'the', 'sans', 'culottes', 'of', 'the', 'french', 'revolution', 'whilst', 'the', 'term', 'is', 'still', 'used', 'in', 'a', 'pejorative', 'way', 'to', 'describe', 'any', 'act', 'that', 'used', 'violent', 'means', 'to', 'destroy', 'the', 'organization', 'of', 'society', 'it', 'has', 'also', 'been', 'taken', 'up', 'as', 'a', 'positive', 'label', 'by', 'self', 'defined', 'anarchists', 'the', 'word', 'anarchism', 'is', 'derived', 'from', 'the', 'greek', 'without', 'archons', 'ruler', 'chief', 'king', 'anarchism', 'as', 'a', 'political', 'philosophy', 'is', 'the', 'belief', 'that', 'rulers', 'are', 'unnecessary', 'and', 'should', 'be', 'abolished', 'although', 'there', 'are', 'differing']\n"
          ],
          "name": "stdout"
        }
      ]
    },
    {
      "metadata": {
        "id": "kV5KYz17vyzc",
        "colab_type": "code",
        "outputId": "d8e90ad7-8791-4038-d2a9-61ed6d72cc14",
        "colab": {
          "base_uri": "https://localhost:8080/",
          "height": 34
        }
      },
      "cell_type": "code",
      "source": [
        "len(words)"
      ],
      "execution_count": 0,
      "outputs": [
        {
          "output_type": "execute_result",
          "data": {
            "text/plain": [
              "17005207"
            ]
          },
          "metadata": {
            "tags": []
          },
          "execution_count": 12
        }
      ]
    },
    {
      "metadata": {
        "id": "dN_daPmtrQEe",
        "colab_type": "code",
        "outputId": "850ab86b-b697-444e-ee1a-8a0c4a665d94",
        "colab": {
          "base_uri": "https://localhost:8080/",
          "height": 34
        }
      },
      "cell_type": "code",
      "source": [
        "# creating a function to do the above steps\n",
        "def read_data(filename):\n",
        "  \"\"\"Extracts the first file enclosed in a zipfile as a list of words\"\"\"\n",
        "  \n",
        "  with zipfile.ZipFile(filename) as f:\n",
        "    data = tf.compat.as_str(f.read(f.namelist()[0])).split()\n",
        "   \n",
        "  return data\n",
        "\n",
        "\n",
        "words = read_data(filename)\n",
        "print(\"Total words {}\".format(len(words)))  \n",
        "    "
      ],
      "execution_count": 0,
      "outputs": [
        {
          "output_type": "stream",
          "text": [
            "Total words 17005207\n"
          ],
          "name": "stdout"
        }
      ]
    },
    {
      "metadata": {
        "id": "NQZHiZfVw2kw",
        "colab_type": "code",
        "outputId": "4b3a0745-34a4-44ea-8e59-aefc59716147",
        "colab": {
          "base_uri": "https://localhost:8080/",
          "height": 440
        }
      },
      "cell_type": "code",
      "source": [
        "# Build a dictionary and replace very rare words with an UNK token\n",
        "\n",
        "#note that collections.counter(iterable) will give a collection where elements \n",
        "#are stored as dictionary keys while their count is stored as dictionary values\n",
        "\n",
        "sample_sentence = (\"Hello, what are you doing ? I am cooking food. What about you?\"\n",
        "                     \" I am watitng for a bus. Hope I will meet you again\")\n",
        "print(\"Sample Sentence is \")\n",
        "print(sample_sentence)\n",
        "print()\n",
        "\n",
        "\n",
        "#splitting the sentence into words\n",
        "sample_words =  sample_sentence.lower().split()\n",
        "print(\"Sample words are\")\n",
        "print(sample_words)\n",
        "print()\n",
        "\n",
        "\n",
        "#using the counter to generate dictionary of words with thier frequency\n",
        "word_freq  = collections.Counter(sample_words)\n",
        "print(\"Word frequencies are \")\n",
        "print(word_freq)\n",
        "print()\n",
        "\n",
        "#to get the most common three words\n",
        "top3_words = word_freq.most_common(3)\n",
        "print(\"top3_words are \")\n",
        "print(top3_words)\n",
        "print()\n",
        "\n",
        "#currently count houses only UNK token. We will add most popular words and\n",
        "#their frequency to it.\n",
        "count = [ ['UNK', -1]]\n",
        "count.extend(top3_words)\n",
        "print(\"count is \")\n",
        "print(count)\n",
        "print()\n",
        "\n",
        "#creating our dictionary from most common words\n",
        "dictionary = dict()\n",
        "for word,freq in count:\n",
        "  dictionary[word] = len(dictionary)\n",
        "  \n",
        "print(\"the dictionary is \")\n",
        "print(dictionary)\n",
        "print()\n",
        "\n",
        "data = list()\n",
        "unk_count = 0\n",
        "\n",
        "#replacing each word in original dataset by its representation.\n",
        "#rare words are replaced by index 0 (for UNK)\n",
        "#hence instead of original sentence we will get a list of numbers.\n",
        "#eg: - absistence means to avoid something.\n",
        "#may become 0, 3500, 7, 2002, 1700 \n",
        "#assuming absistence is a rare word and to is the 7th most frequent word.\n",
        "\n",
        "for word in sample_words:\n",
        "  if word in dictionary:\n",
        "    index = dictionary[word]\n",
        "  else:\n",
        "    index = 0 #the index for UNK\n",
        "    unk_count += 1\n",
        "  data.append(index)\n",
        "\n",
        "print(\"data(words in index representation) is\")\n",
        "print(data)\n",
        "print()\n",
        "\n",
        "#reverse dictionary to obtain words corresponding to their occurenece frequency\n",
        "reverse_dictionary = dict(zip(dictionary.values(), dictionary.keys()))\n",
        "\n",
        "print(\"reverse dictionary is\")\n",
        "print(reverse_dictionary)\n",
        "print()\n",
        "    "
      ],
      "execution_count": 0,
      "outputs": [
        {
          "output_type": "stream",
          "text": [
            "Sample Sentence is \n",
            "Hello, what are you doing ? I am cooking food. What about you? I am watitng for a bus. Hope I will meet you again\n",
            "\n",
            "Sample words are\n",
            "['hello,', 'what', 'are', 'you', 'doing', '?', 'i', 'am', 'cooking', 'food.', 'what', 'about', 'you?', 'i', 'am', 'watitng', 'for', 'a', 'bus.', 'hope', 'i', 'will', 'meet', 'you', 'again']\n",
            "\n",
            "Word frequencies are \n",
            "Counter({'i': 3, 'what': 2, 'you': 2, 'am': 2, 'hello,': 1, 'are': 1, 'doing': 1, '?': 1, 'cooking': 1, 'food.': 1, 'about': 1, 'you?': 1, 'watitng': 1, 'for': 1, 'a': 1, 'bus.': 1, 'hope': 1, 'will': 1, 'meet': 1, 'again': 1})\n",
            "\n",
            "top3_words are \n",
            "[('i', 3), ('what', 2), ('you', 2)]\n",
            "\n",
            "count is \n",
            "[['UNK', -1], ('i', 3), ('what', 2), ('you', 2)]\n",
            "\n",
            "the dictionary is \n",
            "{'UNK': 0, 'i': 1, 'what': 2, 'you': 3}\n",
            "\n",
            "data(words in index representation) is\n",
            "[0, 2, 0, 3, 0, 0, 1, 0, 0, 0, 2, 0, 0, 1, 0, 0, 0, 0, 0, 0, 1, 0, 0, 3, 0]\n",
            "\n",
            "reverse dictionary is\n",
            "{0: 'UNK', 1: 'i', 2: 'what', 3: 'you'}\n",
            "\n"
          ],
          "name": "stdout"
        }
      ]
    },
    {
      "metadata": {
        "id": "4NM-7FvsHHJ5",
        "colab_type": "code",
        "outputId": "bcfef728-d1c4-4865-93b6-4fa907eb269c",
        "colab": {
          "base_uri": "https://localhost:8080/",
          "height": 118
        }
      },
      "cell_type": "code",
      "source": [
        "vocabulary_size = 50000\n",
        "\n",
        "# creating a function to build_dataset using aboce mentioned methods\n",
        "def build_dataset(words):\n",
        "  #initializing count with UNK token\n",
        "  count = [['UNK', -1]]\n",
        "  \n",
        "  #entering most common words into count with their frequencies\n",
        "  #-1 as UNK will be one entry in the dictionary\n",
        "  count.extend(collections.Counter(words).most_common(vocabulary_size - 1))\n",
        "  \n",
        "  #creating a dictionary with index representing frequency rankings.\n",
        "  #0 for UNK, 1 for most frequent\n",
        "  dictionary = dict()\n",
        "  for word,freq in count:\n",
        "    dictionary[word] = len(dictionary)\n",
        "  \n",
        "  #data is index representation of text with words represented by dictionary indices\n",
        "  data = list()\n",
        "  unk_count = 0\n",
        "  \n",
        "  for word in words:\n",
        "    if word in dictionary:\n",
        "      index = dictionary[word]\n",
        "    else:\n",
        "      index = 0 #index for UNK\n",
        "      unk_count += 1\n",
        "    data.append(index)\n",
        "  \n",
        "  #putting frquency of UNK token\n",
        "  count[0][1] = unk_count\n",
        "  \n",
        "  #creating a reverse_dictionary to get words corresponding to rankings\n",
        "  #reverse_dictionary[1] will give most frequent words (O reserved for UNK)\n",
        "  reverse_dictionary = dict(zip(dictionary.values(), dictionary.keys() ))\n",
        "  \n",
        "  \n",
        "  return data, count, dictionary, reverse_dictionary\n",
        "\n",
        "\n",
        "data, count, dictionary, reverse_dictionary = build_dataset(words)\n",
        "print(\"Most common words (+UNK)\")\n",
        "print(count[:5])\n",
        "print()\n",
        "\n",
        "print(\"Sample data\")\n",
        "print(data[:10])\n",
        "print()\n",
        "\n",
        " \n",
        "  \n",
        "    "
      ],
      "execution_count": 0,
      "outputs": [
        {
          "output_type": "stream",
          "text": [
            "Most common words (+UNK)\n",
            "[['UNK', 418391], ('the', 1061396), ('of', 593677), ('and', 416629), ('one', 411764)]\n",
            "\n",
            "Sample data\n",
            "[5234, 3081, 12, 6, 195, 2, 3134, 46, 59, 156]\n",
            "\n"
          ],
          "name": "stdout"
        }
      ]
    },
    {
      "metadata": {
        "id": "-HOSuR9Tws8f",
        "colab_type": "code",
        "outputId": "bde86820-9598-4ea8-a53c-0e3374dbcfba",
        "colab": {
          "base_uri": "https://localhost:8080/",
          "height": 50
        }
      },
      "cell_type": "code",
      "source": [
        "print(len(dictionary))\n",
        "print(len(reverse_dictionary))"
      ],
      "execution_count": 0,
      "outputs": [
        {
          "output_type": "stream",
          "text": [
            "50000\n",
            "50000\n"
          ],
          "name": "stdout"
        }
      ]
    },
    {
      "metadata": {
        "id": "cg0L83F9Tz9n",
        "colab_type": "code",
        "outputId": "a998c65d-f970-4b90-c6ee-b0e97b1cda79",
        "colab": {
          "base_uri": "https://localhost:8080/",
          "height": 50
        }
      },
      "cell_type": "code",
      "source": [
        "#just checking whether data representation is correct or not\n",
        "print(words[:2])\n",
        "print(reverse_dictionary[5234])"
      ],
      "execution_count": 0,
      "outputs": [
        {
          "output_type": "stream",
          "text": [
            "['anarchism', 'originated']\n",
            "anarchism\n"
          ],
          "name": "stdout"
        }
      ]
    },
    {
      "metadata": {
        "id": "a4gLYqpyUlr8",
        "colab_type": "code",
        "outputId": "76f29d54-1cdc-456b-9b5a-3959784cf5ee",
        "colab": {
          "base_uri": "https://localhost:8080/",
          "height": 185
        }
      },
      "cell_type": "code",
      "source": [
        "# generate batch for skip-gram model\n",
        "\n",
        "#initializing data_index to 0\n",
        "data_index = 0\n",
        "\n",
        "def generate_batch(batch_size, num_skips, skip_window):\n",
        "  global data_index\n",
        "  assert batch_size % num_skips == 0\n",
        "  \n",
        "  #cant understand the use of below\n",
        "  assert num_skips <= 2*skip_window\n",
        "  \n",
        "  #creating empty array for batch and since each word represented by number hence\n",
        "  #1-D array of integers(upto vocab_size)\n",
        "  batch =np.ndarray(shape=(batch_size), dtype=np.int32)\n",
        "  #dont know why we need 2-D array with 1 as one of the dimensions here??\n",
        "  labels =np.ndarray(shape=(batch_size,1), dtype=np.int32)\n",
        "  \n",
        "  #since our window is like  skip_window target skip_window\n",
        "  span = 2*skip_window + 1\n",
        "  \n",
        "  #deque is list-like container with fast appends and pops on either end\n",
        "  #creating a buffer with max_size as span\n",
        "  buffer = collections.deque(maxlen=span)\n",
        "  \n",
        "  #creating buffer for the first target_word in the batch\n",
        "  for _ in range(span):    \n",
        "    #filling in buffer from data\n",
        "    buffer.append(data[data_index])\n",
        "    #moving to the next word in data. cant really figure out the use of len(data)\n",
        "    #should be obsolete\n",
        "    #edit- this function is used to generate batches during training since we will\n",
        "    #have  to train for many iterations we will iterate over the whole dataset\n",
        "    #again and again\n",
        "    data_index = (data_index + 1) % len(data)\n",
        "  \n",
        "  \n",
        "  \"\"\"Note that the batch is made up of target_words*num_skips hence if we have\n",
        "  bs = 8 and num_skips = 2 then we will have 4 target words each repeated 2 times\n",
        "  while if bs=8, num_skips=4 then we will have 2 target words repeated 4 times each\n",
        "\n",
        "  we pick labels of the target words from the skip_window hence num_skips<=2*skip_window\n",
        "  note that the sliding window is moved by only a single word in each iteration.\n",
        "\n",
        "  examples in sentence 'Chicago is a beautiful city'. If we have\n",
        "  num_skips = 4, skip_window = 2 then we will have \n",
        "  'a' with labels ['is', 'beautiful', 'Chicago', 'city']\"\"\"\n",
        "\n",
        "\n",
        "  #// for integer division hence should give us the total number of subsections in batch\n",
        "  for i in range(batch_size// num_skips):\n",
        "    \n",
        "    # target label at center of the buffer.\n",
        "    target = skip_window\n",
        "    # targets_to_avoid depicts the words that do not have to be put in\n",
        "    # the labels of a word. We dont want to have a word in its labels hence\n",
        "    # we have started the list by adding the word to it\n",
        "    labels_to_avoid = [skip_window]\n",
        "    #the below will trigger false condition forcing to pick another label\n",
        "    label = skip_window\n",
        "    \n",
        "    for j in range(num_skips):\n",
        "      while label in labels_to_avoid:\n",
        "        #picking a new random label from the skip window\n",
        "        #if we have num_skips == 2*skip_window then we wont need it\n",
        "        label = random.randint(0,span-1)\n",
        "       \n",
        "      #do not repeat a label already put inside\n",
        "      #appending label to labels_to_avoid      \n",
        "      labels_to_avoid.append(label)\n",
        "      \n",
        "      #i is each unique word, j is its jth repeatation in batch\n",
        "      batch[i*num_skips + j]  = buffer[target]\n",
        "      labels[i*num_skips + j,0] = buffer[label]\n",
        "      \n",
        "    #creating buffer for the next target_word in the batch(under loop on i)\n",
        "    #that is moving the window by one word\n",
        "    buffer.append(data[data_index])\n",
        "    data_index = (data_index + 1) % len(data)\n",
        "    \n",
        "    \n",
        "  return batch,labels\n",
        "  \n",
        "\n",
        "#printing the sample sentence\n",
        "print('data: ', [reverse_dictionary[di] for di in data[:8]])\n",
        "print()\n",
        "\n",
        "#trying differnet values for parameters\n",
        "\n",
        "for num_skips, skip_window in [(2,1), (4,2)]:\n",
        "  data_index = 0\n",
        "  batch,labels = generate_batch(batch_size =8, num_skips =num_skips, skip_window=skip_window)\n",
        "  print(\"with num_skips = {} and skip_window = {} \".format(num_skips,skip_window))\n",
        "  print(\"    batch: \", [reverse_dictionary[bi] for bi in batch])\n",
        "  print(\"    labels: \",[reverse_dictionary[lb] for lb in labels.reshape(8)])\n",
        "  print()\n",
        "  \n",
        "  \n",
        "\n",
        "      \n",
        "      "
      ],
      "execution_count": 0,
      "outputs": [
        {
          "output_type": "stream",
          "text": [
            "data:  ['anarchism', 'originated', 'as', 'a', 'term', 'of', 'abuse', 'first']\n",
            "\n",
            "with num_skips = 2 and skip_window = 1 \n",
            "    batch:  ['originated', 'originated', 'as', 'as', 'a', 'a', 'term', 'term']\n",
            "    labels:  ['as', 'anarchism', 'a', 'originated', 'as', 'term', 'a', 'of']\n",
            "\n",
            "with num_skips = 4 and skip_window = 2 \n",
            "    batch:  ['as', 'as', 'as', 'as', 'a', 'a', 'a', 'a']\n",
            "    labels:  ['anarchism', 'term', 'a', 'originated', 'term', 'originated', 'as', 'of']\n",
            "\n"
          ],
          "name": "stdout"
        }
      ]
    },
    {
      "metadata": {
        "id": "f86B-EiozOgU",
        "colab_type": "code",
        "colab": {}
      },
      "cell_type": "code",
      "source": [
        "#the main reason fpr using sampled_softmax is that\n",
        "#each training example is of form (x, {t}) where x is conext and t is target class\n",
        "#usually we are trying to figure P(y|x) that is the probability that the one\n",
        "#target class is y given the context is x\n",
        "#But if we include the whole vocabulary the\n",
        "#num_classes is very high and hence calculations computationally very expensive\n",
        "#thus what we do is we pick small set of sampled classes according to a sampling \n",
        "#function (call it Si).\n",
        "#create a set of candidates Ci = (Si Union {t})\n",
        "# we evaluate P(t =y|x,Ci), probaility that y is the target class given x and Ci\n",
        "\n",
        "#creation of graph\n",
        "\n",
        "batch_size = 128\n",
        "embedding_size = 128\n",
        "skip_window = 1\n",
        "num_skips = 2\n",
        "\n",
        "#dont know some of this part\n",
        "\n",
        "#set of words to evaluate similaity on\n",
        "valid_size = 16\n",
        "#will pick above words only from the 100 most frequent words\n",
        "valid_window = 100\n",
        "#dont really understand the below code\n",
        "#random.sample(population,k) returns a k length list of unique elements chosen\n",
        "#from the population(without replacement)\n",
        "\n",
        "#picking 16 words from 100 most frequent to evaluate\n",
        "valid_examples = np.array(random.sample(range(valid_window), valid_size))\n",
        "num_sampled = 64\n",
        "\n",
        "\n",
        "graph = tf.Graph()\n",
        "\n",
        "with graph.as_default():\n",
        "  \n",
        "  #Input data placeholders\n",
        "  \n",
        "  train_dataset = tf.placeholder(tf.int32, shape=[batch_size])\n",
        "  train_labels  = tf.placeholder(tf.int32, shape=[batch_size,1])\n",
        "  valid_dataset = tf.constant(valid_examples, dtype = tf.int32)\n",
        "  \n",
        "  \n",
        "  #variables\n",
        "  #an embedding representation for each word\n",
        "  embeddings = tf.Variable(tf.random_uniform( [vocabulary_size, embedding_size], -1.0, 1.0))\n",
        "  \n",
        "  softmax_weights = tf.Variable(\n",
        "                         tf.truncated_normal([vocabulary_size, embedding_size],\n",
        "                                            stddev = 1.0/ math.sqrt(embedding_size)))\n",
        "  \n",
        "  softmax_biases = tf.Variable(tf.zeros([vocabulary_size]))\n",
        "  \n",
        "  \n",
        "  #tf.nn.embedding_lookup(params,ids)  returns the embeddings of ids from params\n",
        "  #where params are the embeddings og whole population\n",
        "  #hence finding embeddings for training labels\n",
        "  embed = tf.nn.embedding_lookup(embeddings,train_dataset)\n",
        "  \n",
        "  \n",
        "  \n",
        "  \n",
        "  #This part is an attempt to save the embeddings so that they can be used later\n",
        "  saver = tf.train.Saver({\"embeddings\":embeddings})\n",
        "  \n",
        "  \n",
        "  \n",
        "  \n",
        "  #still have to figure out this part\n",
        "  #computing the loss\n",
        "  \n",
        "  #note that num_sampled is the number of classes randomly sampled per batch\n",
        "  #while num_classes is the total number of classes\n",
        "  loss = tf.reduce_mean(\n",
        "             tf.nn.sampled_softmax_loss(weights=softmax_weights, biases=softmax_biases,\n",
        "                                       inputs=embed, labels=train_labels, num_sampled=num_sampled,\n",
        "                                       num_classes = vocabulary_size))\n",
        "  \n",
        "  #Optimizer\n",
        "  optimizer = tf.train.AdagradOptimizer(1.0).minimize(loss)\n",
        "  \n",
        "  \n",
        "  norm = tf.sqrt(tf.reduce_sum(tf.square(embeddings),1, keepdims = True))\n",
        "  normalized_embeddings = embeddings/norm\n",
        "  \n",
        "  valid_embeddings = tf.nn.embedding_lookup(normalized_embeddings, valid_dataset)\n",
        "  similarity = tf.matmul(valid_embeddings, tf.transpose(normalized_embeddings))\n",
        "  \n",
        "  "
      ],
      "execution_count": 0,
      "outputs": []
    },
    {
      "metadata": {
        "id": "UU5sB6_0UhKe",
        "colab_type": "code",
        "outputId": "8842a250-62d0-4a28-e90b-cecf1bf0ae62",
        "colab": {
          "base_uri": "https://localhost:8080/",
          "height": 3867
        }
      },
      "cell_type": "code",
      "source": [
        "# training the model\n",
        "num_steps = 100001\n",
        "\n",
        "with tf.Session(graph=graph) as session:\n",
        "  tf.global_variables_initializer().run()\n",
        "  print('Initialized')\n",
        "  average_loss = 0\n",
        "  \n",
        "  for step in range(num_steps):\n",
        "    # this works because data index is global variable and this is also\n",
        "    # the reason for having (data_index + 1) % len(data) as we will train on same\n",
        "    # batches again after ending\n",
        "    batch_data, batch_labels = generate_batch(batch_size, num_skips, skip_window)\n",
        "    feed_dict = {train_dataset : batch_data, train_labels : batch_labels}\n",
        "    \n",
        "    #WARNING: dont give l the name of loss\n",
        "    _, l = session.run([optimizer, loss], feed_dict = feed_dict)\n",
        "    \n",
        "    average_loss += l\n",
        "    \n",
        "    if step%2000 == 0:\n",
        "      if step > 0:\n",
        "        #average loss is estimate of loss over last 2000 batches\n",
        "        average_loss = average_loss/2000\n",
        "       \n",
        "      print(\"average loss at step {} is {} \".format(step, average_loss))\n",
        "      #resetting average_loss\n",
        "      average_loss = 0\n",
        "      \n",
        "    \n",
        "    if step % 10000 == 0:\n",
        "      sim = similarity.eval()\n",
        "      for i in range(valid_size):\n",
        "        valid_word = reverse_dictionary[valid_examples[i]]\n",
        "        top_k = 8 #number of nearest neighbours\n",
        "        #0 will give the word itseld\n",
        "        nearest = (-sim[i,:]).argsort()[1:top_k+1]\n",
        "        \n",
        "        print(\"nearest to {}: \".format(valid_word), end='')      \n",
        "        for k in range(top_k):\n",
        "          close_word = reverse_dictionary[nearest[k]]\n",
        "          print('{}, '.format(close_word), end='')\n",
        "        print()\n",
        "        \n",
        "    final_embeddings = normalized_embeddings.eval()\n",
        "    \n",
        "  #saving the embeddings to the disk\n",
        "  save_path = saver.save(session, \"/content/saved_embeddings/embeddings_model.ckpt\")\n",
        "    \n",
        "    \n",
        "    "
      ],
      "execution_count": 0,
      "outputs": [
        {
          "output_type": "stream",
          "text": [
            "Initialized\n",
            "average loss at step 0 is 7.569671630859375 \n",
            "nearest to system: sadc, trisha, marxist, argumentative, yetzirah, ebionites, hfs, laos, \n",
            "nearest to his: whispers, unproductive, afternoons, corporatist, recruit, frankfort, trough, misunderstandings, \n",
            "nearest to it: excitotoxins, questions, lb, overseeing, expositor, comforts, appendices, wettest, \n",
            "nearest to UNK: statute, mediterranean, occurrences, pleasing, bellevue, indonesians, van, richthofen, \n",
            "nearest to be: flanked, installing, ahimsa, thermals, inf, berengar, franc, galactus, \n",
            "nearest to other: outputs, honeymoon, disjunction, verb, footballers, orange, facilities, adp, \n",
            "nearest to as: clipping, lipoprotein, cordova, penal, rockne, teardrop, tethys, pavia, \n",
            "nearest to three: bacon, consequentialism, channing, triton, gila, bijapur, malthus, silt, \n",
            "nearest to a: giving, immerse, blake, creditors, obsession, records, testimonies, well, \n",
            "nearest to people: shinogi, krahn, centric, contending, nsw, gren, ayling, titration, \n",
            "nearest to at: freed, rhetorician, instantly, splitter, nominal, neurotransmitter, superman, lunar, \n",
            "nearest to been: maarten, hieroglyphs, petal, wd, rupee, fry, cocaine, boucher, \n",
            "nearest to states: validity, conditioners, dubbed, boleslav, usps, abidjan, bernhard, dunne, \n",
            "nearest to all: devotee, juggernaut, pharmacist, occupations, bread, poisoned, ump, macabre, \n",
            "nearest to five: dwarf, gottlieb, germs, taiko, protestantism, tongue, expert, redirected, \n",
            "nearest to of: neighbour, hilbert, edmond, unsteady, fairfield, generalitat, teleplay, tenochtitl, \n",
            "average loss at step 2000 is 4.3821888666749 \n",
            "average loss at step 4000 is 3.8758270175457 \n",
            "average loss at step 6000 is 3.8061820532083512 \n",
            "average loss at step 8000 is 3.759229096889496 \n",
            "average loss at step 10000 is 3.620460447192192 \n",
            "nearest to system: serapeum, yetzirah, kamala, laos, argumentative, marxist, sadc, umami, \n",
            "nearest to his: their, its, the, her, misunderstandings, unproductive, chaparral, rebounded, \n",
            "nearest to it: he, this, which, there, excitotoxins, they, she, dyer, \n",
            "nearest to UNK: deserve, naaman, david, nel, translating, teleprinter, kessler, tutelage, \n",
            "nearest to be: have, was, flanked, been, by, provide, are, were, \n",
            "nearest to other: outputs, sage, disjunction, futhark, proliferation, growing, some, busey, \n",
            "nearest to as: matres, conflicts, shortened, carp, dismissal, mcnamara, criminal, abandonment, \n",
            "nearest to three: four, five, seven, six, eight, two, nine, one, \n",
            "nearest to a: the, no, materially, dressage, aircraft, or, this, costume, \n",
            "nearest to people: fried, closet, shinogi, rcn, pmrc, tissot, storied, ayling, \n",
            "nearest to at: in, before, on, acrobatics, piter, eugenicist, atrium, splitter, \n",
            "nearest to been: ophelia, was, be, kuo, boucher, wd, statuary, phi, \n",
            "nearest to states: tremor, conditioners, moles, chihuly, motorways, dubbed, subgenre, tetrahedral, \n",
            "nearest to all: bread, many, emilia, eleftherios, rented, hieronymus, lockheed, masoch, \n",
            "nearest to five: four, three, eight, seven, six, nine, zero, two, \n",
            "nearest to of: in, for, and, mainframes, proc, measuring, keenan, hephaestion, \n",
            "average loss at step 12000 is 3.587282690644264 \n",
            "average loss at step 14000 is 3.6158636219501497 \n",
            "average loss at step 16000 is 3.5880048978328705 \n",
            "average loss at step 18000 is 3.5696248469352723 \n",
            "average loss at step 20000 is 3.5466880431771277 \n",
            "nearest to system: kamala, ngos, sadc, serapeum, systems, hsuan, dostoevsky, male, \n",
            "nearest to his: their, her, its, the, s, my, this, emptied, \n",
            "nearest to it: he, this, there, which, she, they, we, but, \n",
            "nearest to UNK: dwt, kriegsmarine, cse, rebounding, rearrange, agency, disarray, feasts, \n",
            "nearest to be: have, by, been, are, pontiac, were, is, provide, \n",
            "nearest to other: many, outputs, proliferation, hath, disjunction, bloodline, more, intuitionistic, \n",
            "nearest to as: matres, by, grumman, carp, from, few, kyoto, vein, \n",
            "nearest to three: four, five, two, seven, eight, six, nine, zero, \n",
            "nearest to a: the, any, another, dressage, blacks, niger, irrational, no, \n",
            "nearest to people: shinogi, fried, countries, closet, tissot, abeken, storied, modules, \n",
            "nearest to at: in, marge, singleton, hbp, before, on, stanhope, under, \n",
            "nearest to been: ophelia, be, become, was, kuo, by, indebted, were, \n",
            "nearest to states: tremor, moles, raids, subgenre, chilean, chihuly, tetrahedral, suggested, \n",
            "nearest to all: many, rented, masoch, emilia, kossuth, hieronymus, subterfuge, aotearoa, \n",
            "nearest to five: eight, four, six, seven, nine, three, zero, two, \n",
            "nearest to of: and, in, ghats, embark, s, during, but, grain, \n",
            "average loss at step 22000 is 3.531730950295925 \n",
            "average loss at step 24000 is 3.440002216398716 \n",
            "average loss at step 26000 is 3.418010437488556 \n",
            "average loss at step 28000 is 3.474420797586441 \n",
            "average loss at step 30000 is 3.4112810598015786 \n",
            "nearest to system: systems, sadc, nexgen, dostoevsky, serapeum, umami, bute, dragster, \n",
            "nearest to his: their, her, its, the, my, s, asin, empiricism, \n",
            "nearest to it: he, there, she, this, they, which, semite, still, \n",
            "nearest to UNK: capitan, ferromagnetic, lydians, i, k, psychometric, nage, sans, \n",
            "nearest to be: been, have, is, being, by, pontiac, was, cause, \n",
            "nearest to other: some, different, many, upcoming, outputs, inductively, carrot, busey, \n",
            "nearest to as: for, kyoto, by, grumman, matres, rajiv, abercorn, emmer, \n",
            "nearest to three: five, four, seven, six, two, eight, zero, nine, \n",
            "nearest to a: the, any, another, this, leans, no, antagonists, silvery, \n",
            "nearest to people: countries, closet, shinogi, abeken, modules, flags, fried, waite, \n",
            "nearest to at: in, on, after, before, under, despite, marge, during, \n",
            "nearest to been: be, become, ophelia, had, was, were, kuo, being, \n",
            "nearest to states: chihuly, tremor, subgenre, raids, moles, hieronymus, dubbed, mycological, \n",
            "nearest to all: many, hieronymus, sympathy, both, some, masoch, these, subterfuge, \n",
            "nearest to five: eight, six, four, seven, three, nine, zero, two, \n",
            "nearest to of: in, including, embark, ghats, impaled, for, yog, and, \n",
            "average loss at step 32000 is 3.4237197111845017 \n",
            "average loss at step 34000 is 3.4418709807395933 \n",
            "average loss at step 36000 is 3.3665468596816064 \n",
            "average loss at step 38000 is 3.4909198364019396 \n",
            "average loss at step 40000 is 3.4480884554982185 \n",
            "nearest to system: systems, network, interface, modernist, rrna, neurotransmitters, nexgen, camelids, \n",
            "nearest to his: their, her, its, the, my, our, batll, your, \n",
            "nearest to it: he, she, there, this, they, which, but, still, \n",
            "nearest to UNK: tsim, ab, pastiche, guano, paul, nther, alkene, inquest, \n",
            "nearest to be: been, have, being, was, is, pontiac, were, dubious, \n",
            "nearest to other: many, different, smaller, muslim, these, hath, paleozoic, outputs, \n",
            "nearest to as: by, matres, continuously, cingular, carp, drc, oglethorpe, choked, \n",
            "nearest to three: five, four, six, two, seven, eight, zero, one, \n",
            "nearest to a: any, the, no, quantities, dressage, another, niger, morphologically, \n",
            "nearest to people: countries, abeken, closet, shinogi, tissot, flags, characters, rcn, \n",
            "nearest to at: before, in, despite, on, around, under, programmatic, canard, \n",
            "nearest to been: become, be, were, was, ophelia, by, kuo, had, \n",
            "nearest to states: subgenre, raids, tremor, screened, chihuly, countries, nations, suggested, \n",
            "nearest to all: these, both, many, some, sympathy, devotion, masoch, ethics, \n",
            "nearest to five: four, six, eight, zero, two, three, seven, nine, \n",
            "nearest to of: ghats, karami, for, grain, precocious, embark, lighthouse, anthropic, \n",
            "average loss at step 42000 is 3.428037404239178 \n",
            "average loss at step 44000 is 3.281839912176132 \n",
            "average loss at step 46000 is 3.410213679909706 \n",
            "average loss at step 48000 is 3.4321813991963865 \n",
            "average loss at step 50000 is 3.439903694152832 \n",
            "nearest to system: systems, network, acute, modernist, camelids, dragster, interface, rrna, \n",
            "nearest to his: their, her, its, our, my, the, your, s, \n",
            "nearest to it: he, she, there, this, they, which, we, nothing, \n",
            "nearest to UNK: jean, friedrich, schneier, formidable, anus, p, o, ab, \n",
            "nearest to be: have, been, cause, is, refer, pontiac, become, dubious, \n",
            "nearest to other: many, smaller, tori, various, including, reachable, different, these, \n",
            "nearest to as: matres, ncos, monarchist, continuously, eroding, alpaca, sisters, broadsword, \n",
            "nearest to three: five, six, seven, four, two, eight, nine, zero, \n",
            "nearest to a: another, any, the, fractured, niger, ababa, traynor, gere, \n",
            "nearest to people: countries, christians, abeken, suffolk, fried, tissot, theatrical, coolant, \n",
            "nearest to at: in, around, despite, near, before, on, under, programmatic, \n",
            "nearest to been: become, be, being, was, were, had, come, ophelia, \n",
            "nearest to states: nations, raids, subgenre, countries, dubbed, kingdom, mycological, bernhard, \n",
            "nearest to all: many, both, some, these, sympathy, any, subterfuge, those, \n",
            "nearest to five: four, six, seven, three, eight, two, nine, zero, \n",
            "nearest to of: in, ghats, for, westermann, including, manhattan, holocene, sneak, \n",
            "average loss at step 52000 is 3.4563108776807785 \n",
            "average loss at step 54000 is 3.4307410130500795 \n",
            "average loss at step 56000 is 3.403863649904728 \n",
            "average loss at step 58000 is 3.2825474865436552 \n",
            "average loss at step 60000 is 3.3842182992696763 \n",
            "nearest to system: systems, network, modernist, dragster, acute, camelids, privileged, interface, \n",
            "nearest to his: her, their, its, my, the, our, your, whose, \n",
            "nearest to it: he, she, there, they, this, which, we, never, \n",
            "nearest to UNK: benedictine, modelled, peter, l, g, la, p, battuta, \n",
            "nearest to be: been, become, have, is, was, pontiac, dubious, refer, \n",
            "nearest to other: various, including, reachable, different, irreconcilable, kitchener, political, outputs, \n",
            "nearest to as: became, when, grumman, tonight, after, nigsberg, monarchist, become, \n",
            "nearest to three: four, five, six, eight, seven, two, nine, zero, \n",
            "nearest to a: another, the, monads, any, shipboard, materialism, lubricants, orca, \n",
            "nearest to people: christians, characters, countries, abeken, suffolk, children, men, those, \n",
            "nearest to at: in, despite, marge, under, singleton, weyl, near, disseminated, \n",
            "nearest to been: become, be, was, were, come, being, recently, douard, \n",
            "nearest to states: nations, countries, raids, competing, subgenre, ambivalent, state, consulting, \n",
            "nearest to all: many, some, both, any, sympathy, these, subterfuge, several, \n",
            "nearest to five: four, eight, six, seven, three, two, nine, zero, \n",
            "nearest to of: in, ghats, including, and, lansana, hephaestion, s, monrovia, \n",
            "average loss at step 62000 is 3.4393330849409103 \n",
            "average loss at step 64000 is 3.3591537009477617 \n",
            "average loss at step 66000 is 3.345618775010109 \n",
            "average loss at step 68000 is 3.3876179801225663 \n",
            "average loss at step 70000 is 3.3740584131479263 \n",
            "nearest to system: systems, network, camelids, dragster, rrna, modernist, privileged, services, \n",
            "nearest to his: her, their, its, my, our, the, your, whose, \n",
            "nearest to it: he, she, there, this, they, however, still, probably, \n",
            "nearest to UNK: saline, centrepiece, conifer, overheating, liturgies, lydians, allying, informant, \n",
            "nearest to be: been, have, was, pontiac, become, remain, being, refer, \n",
            "nearest to other: various, some, muslim, different, including, reachable, many, irreconcilable, \n",
            "nearest to as: symbionts, matres, criminal, cingular, chests, gulch, uncontrollably, gaslight, \n",
            "nearest to three: four, five, six, eight, two, seven, nine, one, \n",
            "nearest to a: another, any, the, nontraditional, traynor, materialism, every, molyneux, \n",
            "nearest to people: men, characters, countries, children, abeken, those, christians, traits, \n",
            "nearest to at: in, marge, despite, programmatic, near, singleton, on, weyl, \n",
            "nearest to been: become, be, since, was, were, douard, come, recently, \n",
            "nearest to states: nations, countries, kingdom, state, ambivalent, competing, raids, consulting, \n",
            "nearest to all: both, some, many, sympathy, various, subterfuge, devotion, most, \n",
            "nearest to five: six, four, eight, seven, nine, three, zero, two, \n",
            "nearest to of: ghats, including, rousing, internetworking, in, afternoons, inequality, theodoret, \n",
            "average loss at step 72000 is 3.4057577036619184 \n",
            "average loss at step 74000 is 3.389980630338192 \n",
            "average loss at step 76000 is 3.345981533050537 \n",
            "average loss at step 78000 is 3.239381079375744 \n",
            "average loss at step 80000 is 3.3763447297811506 \n",
            "nearest to system: systems, network, modernist, camelids, services, dragster, manager, warsaw, \n",
            "nearest to his: her, their, its, my, your, our, the, cutters, \n",
            "nearest to it: he, she, there, this, they, we, nothing, itself, \n",
            "nearest to UNK: teleprinter, cramer, lydians, cvn, et, overheating, busway, mon, \n",
            "nearest to be: been, become, pontiac, cause, is, being, have, dubious, \n",
            "nearest to other: various, multiple, including, smaller, different, knee, reachable, several, \n",
            "nearest to as: kyoto, drc, oglethorpe, eroding, matres, organise, because, by, \n",
            "nearest to three: four, five, six, seven, eight, two, zero, nine, \n",
            "nearest to a: another, any, the, dressage, every, fierro, done, shipboard, \n",
            "nearest to people: men, christians, characters, children, countries, abeken, citizens, jews, \n",
            "nearest to at: near, during, in, spake, singleton, tipu, atrium, under, \n",
            "nearest to been: become, be, already, recently, were, was, had, come, \n",
            "nearest to states: nations, countries, kingdom, ambivalent, consulting, governments, state, raids, \n",
            "nearest to all: both, many, some, hieronymus, sympathy, most, only, any, \n",
            "nearest to five: seven, eight, six, four, zero, three, nine, two, \n",
            "nearest to of: and, in, including, for, lansana, include, ghats, lexical, \n",
            "average loss at step 82000 is 3.30055897384882 \n",
            "average loss at step 84000 is 3.34518770223856 \n",
            "average loss at step 86000 is 3.3516185730099677 \n",
            "average loss at step 88000 is 3.315917488694191 \n",
            "average loss at step 90000 is 3.240496153652668 \n",
            "nearest to system: systems, network, modernist, manager, nullified, camelids, services, douglass, \n",
            "nearest to his: her, their, its, your, my, our, the, sergeant, \n",
            "nearest to it: she, he, there, this, they, itself, often, usually, \n",
            "nearest to UNK: physicist, actor, poet, writer, benedict, saint, battuta, and, \n",
            "nearest to be: been, become, refer, pontiac, have, produce, were, remain, \n",
            "nearest to other: various, including, others, kitchener, muslim, many, coagulation, different, \n",
            "nearest to as: matres, after, broadsword, emmer, disdained, utilised, tonight, before, \n",
            "nearest to three: four, seven, five, six, eight, two, nine, zero, \n",
            "nearest to a: another, the, nontraditional, materialism, every, lubricants, cavalcanti, salsa, \n",
            "nearest to people: men, abeken, jews, children, christians, citizens, characters, scientists, \n",
            "nearest to at: in, during, near, around, university, despite, programmatic, grapheme, \n",
            "nearest to been: become, be, was, come, had, already, druid, were, \n",
            "nearest to states: nations, kingdom, countries, state, omniscience, sanford, australia, onshore, \n",
            "nearest to all: both, many, various, some, sympathy, any, devotion, these, \n",
            "nearest to five: seven, four, eight, six, three, zero, nine, two, \n",
            "nearest to of: in, and, including, razzie, ghats, at, s, wadsworth, \n",
            "average loss at step 92000 is 2.737376828491688 \n",
            "average loss at step 94000 is 3.1085306594967843 \n",
            "average loss at step 96000 is 3.0661933663487435 \n",
            "average loss at step 98000 is 3.220146389901638 \n",
            "average loss at step 100000 is 3.27840855884552 \n",
            "nearest to system: systems, network, modernist, camelids, services, xix, privileged, nullified, \n",
            "nearest to his: her, their, its, my, your, our, s, whose, \n",
            "nearest to it: she, he, there, this, itself, what, probably, usually, \n",
            "nearest to UNK: prejudicial, relics, battuta, engel, pollinators, fran, cooking, murrow, \n",
            "nearest to be: been, refer, become, have, was, being, pontiac, is, \n",
            "nearest to other: various, several, many, others, coagulation, different, those, snapshots, \n",
            "nearest to as: emmer, broadsword, honneur, alpaca, disdained, kyoto, oglethorpe, agape, \n",
            "nearest to three: four, five, two, seven, six, eight, nine, zero, \n",
            "nearest to a: another, the, materialism, every, any, orca, leans, gere, \n",
            "nearest to people: men, christians, jews, children, characters, women, citizens, abeken, \n",
            "nearest to at: near, during, in, around, university, weyl, programmatic, marge, \n",
            "nearest to been: become, be, already, was, recently, druid, since, traditionally, \n",
            "nearest to states: nations, kingdom, countries, us, state, eridu, governments, unloaded, \n",
            "nearest to all: both, some, many, any, emphasised, various, these, those, \n",
            "nearest to five: seven, four, six, eight, three, nine, zero, two, \n",
            "nearest to of: ghats, in, lansana, and, respective, usta, include, anthropic, \n"
          ],
          "name": "stdout"
        }
      ]
    },
    {
      "metadata": {
        "id": "EfviJmUIZZpc",
        "colab_type": "code",
        "colab": {}
      },
      "cell_type": "code",
      "source": [
        "num_points = 200\n",
        "\n",
        "tsne = TSNE(perplexity = 30, n_components=2, init='pca', n_iter = 5000, method='exact')\n",
        "two_d_embeddings= tsne.fit_transform(final_embeddings[1:num_points+1, :])\n"
      ],
      "execution_count": 0,
      "outputs": []
    },
    {
      "metadata": {
        "id": "c0vN7T-_lsuV",
        "colab_type": "code",
        "outputId": "45d05d91-b552-463e-d657-aedb66bb4e45",
        "colab": {
          "base_uri": "https://localhost:8080/",
          "height": 883
        }
      },
      "cell_type": "code",
      "source": [
        "def plot(embeddings, labels):\n",
        "  assert embeddings.shape[0] >= len(labels), 'More labels than embeddings'\n",
        "  pylab.figure(figsize=(15,15))  # in inches\n",
        "  for i, label in enumerate(labels):\n",
        "    x, y = embeddings[i,:]\n",
        "    pylab.scatter(x, y)\n",
        "    pylab.annotate(label, xy=(x, y), xytext=(5, 2), textcoords='offset points',\n",
        "                   ha='right', va='bottom')\n",
        "  pylab.show()\n",
        "\n",
        "words = [reverse_dictionary[i] for i in range(1, num_points+1)]\n",
        "plot(two_d_embeddings, words)"
      ],
      "execution_count": 0,
      "outputs": [
        {
          "output_type": "display_data",
          "data": {
            "image/png": "[encoded data removed]",
            "text/plain": [
              "<matplotlib.figure.Figure at 0x7ff83036d470>"
            ]
          },
          "metadata": {
            "tags": []
          }
        }
      ]
    },
    {
      "metadata": {
        "id": "tEagM9gnFvJp",
        "colab_type": "code",
        "colab": {}
      },
      "cell_type": "code",
      "source": [
        "\n",
        "from google.colab import files"
      ],
      "execution_count": 0,
      "outputs": []
    },
    {
      "metadata": {
        "id": "ThblIaG-GFin",
        "colab_type": "code",
        "outputId": "0cb4c571-a684-4e3f-ce3d-7267a2b800c6",
        "colab": {
          "base_uri": "https://localhost:8080/",
          "height": 34
        }
      },
      "cell_type": "code",
      "source": [
        "cd /content/saved_embeddings/"
      ],
      "execution_count": 0,
      "outputs": [
        {
          "output_type": "stream",
          "text": [
            "/content/saved_embeddings\n"
          ],
          "name": "stdout"
        }
      ]
    },
    {
      "metadata": {
        "id": "GtoVrr5qMAiy",
        "colab_type": "code",
        "outputId": "064af43c-3e64-4fa2-bb50-67ef7bf8f210",
        "colab": {
          "base_uri": "https://localhost:8080/",
          "height": 50
        }
      },
      "cell_type": "code",
      "source": [
        "ls"
      ],
      "execution_count": 0,
      "outputs": [
        {
          "output_type": "stream",
          "text": [
            "checkpoint                                 embeddings_model.ckpt.index\n",
            "embeddings_model.ckpt.data-00000-of-00001  embeddings_model.ckpt.meta\n"
          ],
          "name": "stdout"
        }
      ]
    },
    {
      "metadata": {
        "id": "buij-5q6GLVP",
        "colab_type": "code",
        "colab": {}
      },
      "cell_type": "code",
      "source": [
        "# files.download('/content/saved_embeddings/checkpoint')\n",
        "files.download('/content/saved_embeddings/embeddings_model.ckpt.index')\n",
        "files.download('/content/saved_embeddings/embeddings_model.ckpt.data-00000-of-00001')\n",
        "files.download('/content/saved_embeddings/embeddings_model.ckpt.meta')"
      ],
      "execution_count": 0,
      "outputs": []
    },
    {
      "metadata": {
        "id": "7K_sv5zyGc6R",
        "colab_type": "code",
        "colab": {}
      },
      "cell_type": "code",
      "source": [
        "!mkdir saved_embeddings"
      ],
      "execution_count": 0,
      "outputs": []
    },
    {
      "metadata": {
        "id": "YmYdp0G-GmmI",
        "colab_type": "code",
        "outputId": "d466092a-bc76-4e3b-fc29-f1cafa1c122f",
        "colab": {
          "base_uri": "https://localhost:8080/",
          "height": 34
        }
      },
      "cell_type": "code",
      "source": [
        "cd saved_embeddings"
      ],
      "execution_count": 0,
      "outputs": [
        {
          "output_type": "stream",
          "text": [
            "/content/saved_embeddings\n"
          ],
          "name": "stdout"
        }
      ]
    }
  ]
}